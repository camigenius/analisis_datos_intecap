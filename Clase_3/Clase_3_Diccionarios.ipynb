{
  "nbformat": 4,
  "nbformat_minor": 0,
  "metadata": {
    "colab": {
      "provenance": []
    },
    "kernelspec": {
      "name": "python3",
      "display_name": "Python 3"
    },
    "language_info": {
      "name": "python"
    }
  },
  "cells": [
    {
      "cell_type": "markdown",
      "source": [
        "#**Diccionarios** 📖📖\n",
        "\n"
      ],
      "metadata": {
        "id": "uADmgYi9sZm-"
      }
    },
    {
      "cell_type": "code",
      "source": [
        "# Diferentes Formas de Declara un Dicccioanrio\n",
        "a = dict(A=1,Z=-1)\n",
        "b = {'A':1,'Z':-1}\n",
        "c = dict(zip(['A','Z'],[1,-1]))\n",
        "d = dict({'Z':-1,'A':1})\n",
        "print(a==b==c==d)\n",
        "print(a,\"\\n\",b,\"\\n\",c,\"\\n\",d)"
      ],
      "metadata": {
        "colab": {
          "base_uri": "https://localhost:8080/"
        },
        "id": "e_4dfPzisp2K",
        "outputId": "46cc7576-ae97-4e01-da5b-ea352b5b2f1d"
      },
      "execution_count": null,
      "outputs": [
        {
          "output_type": "stream",
          "name": "stdout",
          "text": [
            "True\n",
            "{'A': 1, 'Z': -1} \n",
            " {'A': 1, 'Z': -1} \n",
            " {'A': 1, 'Z': -1} \n",
            " {'Z': -1, 'A': 1}\n"
          ]
        }
      ]
    },
    {
      "cell_type": "code",
      "source": [
        "# Como acceder a los valores de un diccionarios\n",
        "alien_0 = {'color': 'green', 'points': 5}\n",
        "print(alien_0['color'])\n",
        "print(alien_0['points'])"
      ],
      "metadata": {
        "colab": {
          "base_uri": "https://localhost:8080/"
        },
        "id": "dDrv6_yUs7GD",
        "outputId": "215e8fcf-5c8c-4e88-86c3-72e400baafdd"
      },
      "execution_count": null,
      "outputs": [
        {
          "output_type": "stream",
          "name": "stdout",
          "text": [
            "green\n",
            "5\n"
          ]
        }
      ]
    },
    {
      "cell_type": "code",
      "source": [
        "len(alien_0['color'])"
      ],
      "metadata": {
        "colab": {
          "base_uri": "https://localhost:8080/"
        },
        "id": "VpQUfbfDttay",
        "outputId": "ee5d6a43-0ca8-405e-e5ca-c38d6a621942"
      },
      "execution_count": null,
      "outputs": [
        {
          "output_type": "execute_result",
          "data": {
            "text/plain": [
              "5"
            ]
          },
          "metadata": {},
          "execution_count": 3
        }
      ]
    },
    {
      "cell_type": "code",
      "source": [
        "new_point = alien_0['points']\n",
        "print(f\"Acabas de ganar , {new_point} puntos\")"
      ],
      "metadata": {
        "colab": {
          "base_uri": "https://localhost:8080/"
        },
        "id": "a37gV_PauxJ2",
        "outputId": "662449c1-407c-4e19-84a1-3b3b935075c3"
      },
      "execution_count": null,
      "outputs": [
        {
          "output_type": "stream",
          "name": "stdout",
          "text": [
            "Acabas de ganar , 5 puntos\n"
          ]
        }
      ]
    },
    {
      "cell_type": "code",
      "source": [
        "# podemos mas llaves valores\n",
        "alien_0['x_position'] = 0\n",
        "alien_0['y_position'] = 25\n",
        "print(alien_0)"
      ],
      "metadata": {
        "colab": {
          "base_uri": "https://localhost:8080/"
        },
        "id": "iKXlNmw6vdEO",
        "outputId": "1a076e3e-82d1-4766-e2b1-8451b70422ab"
      },
      "execution_count": null,
      "outputs": [
        {
          "output_type": "stream",
          "name": "stdout",
          "text": [
            "{'color': 'green', 'points': 5, 'x_position': 0, 'y_position': 25}\n"
          ]
        }
      ]
    },
    {
      "cell_type": "code",
      "source": [
        "# Un diccionario desde cero\n",
        "alien_0 ={}\n",
        "\n",
        "alien_0['color'] = 'green'\n",
        "alien_0['points'] = 5\n",
        "\n",
        "print(f\"El color del alien_0 es {alien_0['color']}\")"
      ],
      "metadata": {
        "colab": {
          "base_uri": "https://localhost:8080/"
        },
        "id": "Eae8OkRmwHJr",
        "outputId": "2fdf70c6-050b-4976-857b-33b2a4ee67af"
      },
      "execution_count": null,
      "outputs": [
        {
          "output_type": "stream",
          "name": "stdout",
          "text": [
            "El color del alien_0 es green\n"
          ]
        }
      ]
    },
    {
      "cell_type": "code",
      "source": [
        "# modificando el valor de un  diccionario\n",
        "print(alien_0['color'])\n",
        "alien_0['color'] = 'purple'\n",
        "print(f\"El nuevo color del alien es {alien_0['color']}\")"
      ],
      "metadata": {
        "colab": {
          "base_uri": "https://localhost:8080/"
        },
        "id": "qXKfhjC93W5O",
        "outputId": "a42d7ddd-8cf7-488f-e825-054ce60cc235"
      },
      "execution_count": null,
      "outputs": [
        {
          "output_type": "stream",
          "name": "stdout",
          "text": [
            "green\n",
            "El nuevo color del alien es purple\n"
          ]
        }
      ]
    },
    {
      "cell_type": "code",
      "source": [
        "# nuevo diccionario\n",
        "alien_0 = {'x_position': 0, 'y_position': 25, 'speed': 'medium'}\n",
        "print(f\"Original position: {alien_0['x_position']}\")"
      ],
      "metadata": {
        "colab": {
          "base_uri": "https://localhost:8080/"
        },
        "id": "vYpoIbMT3kLd",
        "outputId": "e9036205-aefa-4535-81ee-2ebde677a8d4"
      },
      "execution_count": null,
      "outputs": [
        {
          "output_type": "stream",
          "name": "stdout",
          "text": [
            "Original position: 0\n"
          ]
        }
      ]
    },
    {
      "cell_type": "code",
      "source": [
        "# velocidad slow 1, medium 2 y fast = 3\n",
        "import random\n",
        "\n",
        "number_random =  random.randint(0,2)\n",
        "list_1 = ['speed','slow','medium']\n",
        "\n",
        "new_speed = alien_0['speed']=list_1[number_random]\n",
        "\n",
        "if alien_0['speed'] == 'slow':\n",
        "  x_increment  = 1\n",
        "elif alien_0['speed'] == 'medium':\n",
        "  x_increment  = 2\n",
        "else:\n",
        "  x_increment =3\n",
        "\n",
        "print(\"La nueva posisicion de alien es \" , alien_0['x_position']+x_increment)\n",
        "print(x_increment)\n",
        "print(number_random)\n",
        "print(alien_0)\n"
      ],
      "metadata": {
        "colab": {
          "base_uri": "https://localhost:8080/"
        },
        "id": "pU3CUrT64QXJ",
        "outputId": "7a6427d2-41cf-49b9-db3c-d32960c7bbbf"
      },
      "execution_count": null,
      "outputs": [
        {
          "output_type": "stream",
          "name": "stdout",
          "text": [
            "La nueva posisicion de alien es  1\n",
            "1\n",
            "1\n",
            "{'x_position': 0, 'y_position': 25, 'speed': 'slow'}\n"
          ]
        }
      ]
    },
    {
      "cell_type": "code",
      "source": [
        "# ejercicio crear esta sallida\n",
        "\n",
        "favorite_languages = {\n",
        "'jen': 'python',\n",
        "'sarah': 'c',\n",
        "'edward': 'ruby',\n",
        "'phil': 'python',\n",
        "}\n",
        "\n",
        "language = favorite_languages['sarah'].title()\n",
        "print(f\"Sarah's favorite language is {language}.\")"
      ],
      "metadata": {
        "colab": {
          "base_uri": "https://localhost:8080/"
        },
        "id": "OfHjFig74wig",
        "outputId": "1bf4283a-1821-4ea7-a00a-7088e3293c96"
      },
      "execution_count": null,
      "outputs": [
        {
          "output_type": "stream",
          "name": "stdout",
          "text": [
            "Sarah's favorite language is C.\n"
          ]
        }
      ]
    },
    {
      "cell_type": "code",
      "source": [
        "alien_0 = {'color':'green','point':5}"
      ],
      "metadata": {
        "id": "ziZzc60B8o1Z"
      },
      "execution_count": null,
      "outputs": []
    },
    {
      "cell_type": "code",
      "source": [
        "# Borrar datos\n",
        "\n",
        "del alien_0['color']\n",
        "print(alien_0)"
      ],
      "metadata": {
        "colab": {
          "base_uri": "https://localhost:8080/"
        },
        "id": "_DkqVLwf9J4z",
        "outputId": "426be422-5256-487f-8782-7fa94956d449"
      },
      "execution_count": null,
      "outputs": [
        {
          "output_type": "stream",
          "name": "stdout",
          "text": [
            "{'point': 5}\n"
          ]
        }
      ]
    },
    {
      "cell_type": "code",
      "source": [
        "# se peude gestionar un error en este caso ya color lo hemos eliminado\n",
        "alien_0.get('color','error la llave color no existe')"
      ],
      "metadata": {
        "colab": {
          "base_uri": "https://localhost:8080/",
          "height": 36
        },
        "id": "MCK-yQNc9YPP",
        "outputId": "e048ae8d-c7f2-449a-f9ed-11a28cae41d0"
      },
      "execution_count": null,
      "outputs": [
        {
          "output_type": "execute_result",
          "data": {
            "text/plain": [
              "'error la llave color no existe'"
            ],
            "application/vnd.google.colaboratory.intrinsic+json": {
              "type": "string"
            }
          },
          "metadata": {},
          "execution_count": 13
        }
      ]
    },
    {
      "cell_type": "code",
      "source": [
        "alien_0.get('point')"
      ],
      "metadata": {
        "colab": {
          "base_uri": "https://localhost:8080/"
        },
        "id": "hr0qCKd-9wJS",
        "outputId": "7c1058ac-4f82-47a5-fbbb-50cb93c595aa"
      },
      "execution_count": null,
      "outputs": [
        {
          "output_type": "execute_result",
          "data": {
            "text/plain": [
              "5"
            ]
          },
          "metadata": {},
          "execution_count": 14
        }
      ]
    },
    {
      "cell_type": "code",
      "source": [
        "user_0 = {\n",
        "'username': 'Milena',\n",
        "'first': 'Gonzalez',\n",
        "'last': 'Rodriguez',\n",
        "}\n"
      ],
      "metadata": {
        "id": "IJtbeoAl96y2"
      },
      "execution_count": null,
      "outputs": []
    },
    {
      "cell_type": "code",
      "source": [
        "for key in user_0:\n",
        "  print(user_0[key])"
      ],
      "metadata": {
        "colab": {
          "base_uri": "https://localhost:8080/"
        },
        "id": "TyKjpNpu-qCX",
        "outputId": "6d6684cb-60d7-49fb-8bca-d9f7b7db1d47"
      },
      "execution_count": null,
      "outputs": [
        {
          "output_type": "stream",
          "name": "stdout",
          "text": [
            "Milena\n",
            "Gonzalez\n",
            "Rodriguez\n"
          ]
        }
      ]
    },
    {
      "cell_type": "markdown",
      "source": [],
      "metadata": {
        "id": "f438EnTxhSvH"
      }
    },
    {
      "cell_type": "code",
      "source": [
        "# Ejericio usando el archivo 4 ACCEDER al valor de un diccionario\n",
        "# Generar la siguiete salida\n",
        "\n",
        "\"\"\"\n",
        "Jen's favorite language is Python.\n",
        "Sarah's favorite language is C.\n",
        "Edward's favorite language is Ruby.\n",
        "Phil's favorite language is Python.\n",
        "\n",
        "\"\"\""
      ],
      "metadata": {
        "colab": {
          "base_uri": "https://localhost:8080/",
          "height": 54
        },
        "id": "kMqL1eZC_KlT",
        "outputId": "2dda4a89-f11c-4a12-e01e-45cd1af159b7"
      },
      "execution_count": null,
      "outputs": [
        {
          "output_type": "execute_result",
          "data": {
            "text/plain": [
              "\"\\nJen's favorite language is Python.\\nSarah's favorite language is C.\\nEdward's favorite language is Ruby.\\nPhil's favorite language is Python.\\n\\n\""
            ],
            "application/vnd.google.colaboratory.intrinsic+json": {
              "type": "string"
            }
          },
          "metadata": {},
          "execution_count": 17
        }
      ]
    },
    {
      "cell_type": "code",
      "source": [
        "favorite_languages = {\n",
        "'jen': 'python',\n",
        "'sarah': 'c',\n",
        "'edward': 'ruby',\n",
        "'phil': 'python',\n",
        "}\n",
        "\n",
        "for key,values in favorite_languages.items():\n",
        "  print(f\"{key} 's language is {values}\")"
      ],
      "metadata": {
        "colab": {
          "base_uri": "https://localhost:8080/"
        },
        "id": "4S5agEnN__9O",
        "outputId": "2cea69c2-cec6-4ac5-dae3-4bed9a53d0dc"
      },
      "execution_count": null,
      "outputs": [
        {
          "output_type": "stream",
          "name": "stdout",
          "text": [
            "jen 's language is python\n",
            "sarah 's language is c\n",
            "edward 's language is ruby\n",
            "phil 's language is python\n"
          ]
        }
      ]
    },
    {
      "cell_type": "code",
      "source": [
        "# nesting diccionarios\n",
        "# green , yellow , red\n",
        "\n",
        "alien_0 = {'color':'green','point':5}\n",
        "alien_1 = {'color':'yelow','point':5}\n",
        "alien_2 = {'color':'red','point':5}\n",
        "\n",
        "aliens = [alien_0,alien_1,alien_2 ]\n",
        "print(aliens)"
      ],
      "metadata": {
        "colab": {
          "base_uri": "https://localhost:8080/"
        },
        "id": "Kqd0eh7nBFS-",
        "outputId": "021be69b-b12a-44e2-f672-18dd1277bd94"
      },
      "execution_count": null,
      "outputs": [
        {
          "output_type": "stream",
          "name": "stdout",
          "text": [
            "[{'color': 'green', 'point': 5}, {'color': 'yelow', 'point': 5}, {'color': 'red', 'point': 5}]\n"
          ]
        }
      ]
    },
    {
      "cell_type": "code",
      "source": [
        "for alien in aliens:\n",
        "  print(alien)"
      ],
      "metadata": {
        "colab": {
          "base_uri": "https://localhost:8080/"
        },
        "id": "JS7ka-r0B6WL",
        "outputId": "540c3a3d-7b11-42b5-d196-f8d48b63e658"
      },
      "execution_count": null,
      "outputs": [
        {
          "output_type": "stream",
          "name": "stdout",
          "text": [
            "{'color': 'green', 'point': 5}\n",
            "{'color': 'yelow', 'point': 5}\n",
            "{'color': 'red', 'point': 5}\n"
          ]
        }
      ]
    },
    {
      "cell_type": "code",
      "source": [
        "for alien in aliens:\n",
        "  for key,values in alien.items():\n",
        "    print(key,values)"
      ],
      "metadata": {
        "colab": {
          "base_uri": "https://localhost:8080/"
        },
        "id": "hc9J2hZKCPTp",
        "outputId": "5ce8aa46-034b-41b0-8932-def6bcbfe486"
      },
      "execution_count": null,
      "outputs": [
        {
          "output_type": "stream",
          "name": "stdout",
          "text": [
            "color green\n",
            "point 5\n",
            "color yelow\n",
            "point 5\n",
            "color red\n",
            "point 5\n"
          ]
        }
      ]
    },
    {
      "cell_type": "code",
      "source": [
        "aliens = []\n",
        "\n",
        "for alien in range(30):\n",
        "  aliens.append({'color':'green','point': 5 , 'speed':'slow'})\n",
        "\n",
        "aliens[:3]"
      ],
      "metadata": {
        "colab": {
          "base_uri": "https://localhost:8080/"
        },
        "id": "BSxTVwq1Chvi",
        "outputId": "850073f7-5451-41b3-ec7c-dda7f59e76fd"
      },
      "execution_count": null,
      "outputs": [
        {
          "output_type": "execute_result",
          "data": {
            "text/plain": [
              "[{'color': 'green', 'point': 5, 'speed': 'slow'},\n",
              " {'color': 'green', 'point': 5, 'speed': 'slow'},\n",
              " {'color': 'green', 'point': 5, 'speed': 'slow'}]"
            ]
          },
          "metadata": {},
          "execution_count": 22
        }
      ]
    },
    {
      "cell_type": "code",
      "source": [
        "len(aliens)"
      ],
      "metadata": {
        "colab": {
          "base_uri": "https://localhost:8080/"
        },
        "id": "ANGkpHvWExYC",
        "outputId": "3e999212-121f-488f-9781-e2c5b668518b"
      },
      "execution_count": null,
      "outputs": [
        {
          "output_type": "execute_result",
          "data": {
            "text/plain": [
              "30"
            ]
          },
          "metadata": {},
          "execution_count": 23
        }
      ]
    },
    {
      "cell_type": "code",
      "source": [
        "for alien in aliens[:3]:\n",
        "  if alien['color'] == 'green':\n",
        "    alien['color'] = 'yellow'\n",
        "    alien['point'] = 6\n",
        "    alien['speed'] = 'speed'\n",
        "\n",
        "print(aliens[:5])"
      ],
      "metadata": {
        "colab": {
          "base_uri": "https://localhost:8080/"
        },
        "id": "avPkxqWaE4s_",
        "outputId": "9a4d39a0-b4e4-431d-ef70-c4405f37cd68"
      },
      "execution_count": null,
      "outputs": [
        {
          "output_type": "stream",
          "name": "stdout",
          "text": [
            "[{'color': 'yellow', 'point': 6, 'speed': 'speed'}, {'color': 'yellow', 'point': 6, 'speed': 'speed'}, {'color': 'yellow', 'point': 6, 'speed': 'speed'}, {'color': 'green', 'point': 5, 'speed': 'slow'}, {'color': 'green', 'point': 5, 'speed': 'slow'}]\n"
          ]
        }
      ]
    },
    {
      "cell_type": "code",
      "source": [
        "for alien in aliens[:5]:\n",
        "  print(alien)"
      ],
      "metadata": {
        "colab": {
          "base_uri": "https://localhost:8080/"
        },
        "id": "-iMC2wcBFuP3",
        "outputId": "ef01b9dc-ff31-4005-b220-4f5ccbfe4653"
      },
      "execution_count": null,
      "outputs": [
        {
          "output_type": "stream",
          "name": "stdout",
          "text": [
            "{'color': 'yellow', 'point': 6, 'speed': 'speed'}\n",
            "{'color': 'yellow', 'point': 6, 'speed': 'speed'}\n",
            "{'color': 'yellow', 'point': 6, 'speed': 'speed'}\n",
            "{'color': 'green', 'point': 5, 'speed': 'slow'}\n",
            "{'color': 'green', 'point': 5, 'speed': 'slow'}\n"
          ]
        }
      ]
    },
    {
      "cell_type": "code",
      "source": [
        "pizza ={\n",
        "    'crust' : 'thik',\n",
        "    'toppings' : ['mushrooms','extra cheese']\n",
        "    }\n",
        "\n"
      ],
      "metadata": {
        "id": "-WnaiWNCGCow"
      },
      "execution_count": null,
      "outputs": []
    },
    {
      "cell_type": "code",
      "source": [
        "print(f\"you ordered a {pizza['crust']}-crust pizza \"\n",
        "\"whit the following toppings :\")"
      ],
      "metadata": {
        "colab": {
          "base_uri": "https://localhost:8080/"
        },
        "id": "Y7N358ggIcyl",
        "outputId": "c921bdbc-a457-4408-9191-c25d2a34697d"
      },
      "execution_count": null,
      "outputs": [
        {
          "output_type": "stream",
          "name": "stdout",
          "text": [
            "you ordered a thik-crust pizza whit the following toppings :\n"
          ]
        }
      ]
    },
    {
      "cell_type": "code",
      "source": [
        "for tooping in pizza['toppings']:\n",
        "  print(tooping)"
      ],
      "metadata": {
        "colab": {
          "base_uri": "https://localhost:8080/"
        },
        "id": "l4dd8aYgI_5q",
        "outputId": "b5ce906a-0c7a-40c1-bf1e-411b276717d2"
      },
      "execution_count": null,
      "outputs": [
        {
          "output_type": "stream",
          "name": "stdout",
          "text": [
            "mushrooms\n",
            "extra cheese\n"
          ]
        }
      ]
    },
    {
      "cell_type": "code",
      "source": [
        "favorite_languages = {\n",
        "'jen': ['python', 'ruby'],\n",
        "'sarah': ['c'],\n",
        "'edward': ['ruby', 'go'],\n",
        "'phil': ['python', 'haskell'],\n",
        "}"
      ],
      "metadata": {
        "id": "LSyQRmAOJlmx"
      },
      "execution_count": null,
      "outputs": []
    },
    {
      "cell_type": "code",
      "source": [
        "for name, languages in favorite_languages.items():\n",
        "  print(f\"{name.title()}'s favorite languages are :\")\n",
        "  for language in languages:\n",
        "    print(f\"  {language.title()}\")"
      ],
      "metadata": {
        "colab": {
          "base_uri": "https://localhost:8080/"
        },
        "id": "vO9JJVtyKbO3",
        "outputId": "3bce036a-b0f9-466b-8b89-457da221aea1"
      },
      "execution_count": null,
      "outputs": [
        {
          "output_type": "stream",
          "name": "stdout",
          "text": [
            "Jen's favorite languages are :\n",
            "  Python\n",
            "  Ruby\n",
            "Sarah's favorite languages are :\n",
            "  C\n",
            "Edward's favorite languages are :\n",
            "  Ruby\n",
            "  Go\n",
            "Phil's favorite languages are :\n",
            "  Python\n",
            "  Haskell\n"
          ]
        }
      ]
    },
    {
      "cell_type": "code",
      "source": [
        "users = {\n",
        "    'aeinstein': {\n",
        "        'first': 'albert',\n",
        "        'last': 'einstein',\n",
        "        'location': 'princeton',\n",
        "        },\n",
        "    'mcurie': {\n",
        "        'first': 'marie',\n",
        "        'last': 'curie',\n",
        "        'location': 'paris',\n",
        "        },\n",
        "}"
      ],
      "metadata": {
        "id": "mH3Oc3z4KiWk"
      },
      "execution_count": null,
      "outputs": []
    },
    {
      "cell_type": "code",
      "source": [
        "for name, user_info in users.items():\n",
        "  print(f\"user_info: {name}\")\n",
        "  print(f\"{user_info['first'].title()} {user_info['last'].title()}\")\n",
        "  print(f\"{user_info['location'].title()}\\n\")\n"
      ],
      "metadata": {
        "colab": {
          "base_uri": "https://localhost:8080/"
        },
        "id": "GkX5FdMxPlcG",
        "outputId": "511ea907-8fa8-4825-ed50-84498574e260"
      },
      "execution_count": null,
      "outputs": [
        {
          "output_type": "stream",
          "name": "stdout",
          "text": [
            "user_info: aeinstein\n",
            "Albert Einstein\n",
            "Princeton\n",
            "\n",
            "user_info: mcurie\n",
            "Marie Curie\n",
            "Paris\n",
            "\n"
          ]
        }
      ]
    },
    {
      "cell_type": "markdown",
      "source": [
        "#**Funciones** 🛠️"
      ],
      "metadata": {
        "id": "5a15YQyAhYmr"
      }
    },
    {
      "cell_type": "code",
      "source": [
        "def greet_user():\n",
        "  \"\"\"Display a simple greeting.\"\"\"\n",
        "  print(\"Hello!\")\n",
        "\n",
        "greet_user()"
      ],
      "metadata": {
        "colab": {
          "base_uri": "https://localhost:8080/"
        },
        "id": "0Zg4VZaphPlR",
        "outputId": "a27b486f-8509-437d-f809-7878eaefc32f"
      },
      "execution_count": null,
      "outputs": [
        {
          "output_type": "stream",
          "name": "stdout",
          "text": [
            "Hello!\n"
          ]
        }
      ]
    },
    {
      "cell_type": "code",
      "source": [
        "def greet_user(username):\n",
        "  \"\"\"Display a simple greeting.\"\"\"\n",
        "  print(f\"Hello, {username.title()}!\")\n",
        "greet_user('jesse')"
      ],
      "metadata": {
        "colab": {
          "base_uri": "https://localhost:8080/"
        },
        "id": "b1GEi0dTigvc",
        "outputId": "0b279b18-b6f5-474e-9197-76b9f01ce13e"
      },
      "execution_count": null,
      "outputs": [
        {
          "output_type": "stream",
          "name": "stdout",
          "text": [
            "Hello, Jesse!\n"
          ]
        }
      ]
    },
    {
      "cell_type": "code",
      "source": [
        "def describe_pet(animal_type, pet_name):\n",
        "  \"\"\"Display information about a pet.\"\"\"\n",
        "  print(f\"\\nI have a {animal_type}.\")\n",
        "  print(f\"My {animal_type}'s name is {pet_name.title()}.\")\n",
        "describe_pet('hamster', 'harry')"
      ],
      "metadata": {
        "colab": {
          "base_uri": "https://localhost:8080/"
        },
        "id": "sI4l7tFSiolv",
        "outputId": "a0ef024e-2d7d-402b-f3f8-8fe467e7288d"
      },
      "execution_count": null,
      "outputs": [
        {
          "output_type": "stream",
          "name": "stdout",
          "text": [
            "\n",
            "I have a hamster.\n",
            "My hamster's name is Harry.\n"
          ]
        }
      ]
    },
    {
      "cell_type": "code",
      "source": [
        "# La posicion es importante\n",
        "# pero se puede especificar\n",
        "describe_pet(animal_type='hamster', pet_name='harry')"
      ],
      "metadata": {
        "colab": {
          "base_uri": "https://localhost:8080/"
        },
        "id": "thEGGIkCiyhT",
        "outputId": "b6f0e9c4-d4b0-445f-d7dc-d5e50091d35d"
      },
      "execution_count": null,
      "outputs": [
        {
          "output_type": "stream",
          "name": "stdout",
          "text": [
            "\n",
            "I have a hamster.\n",
            "My hamster's name is Harry.\n"
          ]
        }
      ]
    },
    {
      "cell_type": "code",
      "source": [
        "# valores por default\n",
        "\n",
        "def describe_pet(pet_name, animal_type='dog'):\n",
        "  \"\"\"Display information about a pet.\"\"\"\n",
        "  print(f\"\\nI have a {animal_type}.\")\n",
        "  print(f\"My {animal_type}'s name is {pet_name.title()}.\")\n",
        "\n",
        "describe_pet(pet_name='willie')"
      ],
      "metadata": {
        "colab": {
          "base_uri": "https://localhost:8080/"
        },
        "id": "XEGHISzQjWGd",
        "outputId": "5af7c3c7-382e-40ec-f8e2-88f2d258ccea"
      },
      "execution_count": null,
      "outputs": [
        {
          "output_type": "stream",
          "name": "stdout",
          "text": [
            "\n",
            "I have a dog.\n",
            "My dog's name is Willie.\n"
          ]
        }
      ]
    },
    {
      "cell_type": "code",
      "source": [
        "\n",
        "def get_formatted_name(first_name, last_name):\n",
        "  \"\"\"Return a full name, neatly formatted.\"\"\"\n",
        "  full_name = f\"{first_name} {last_name}\"\n",
        "  return full_name.title()\n",
        "\n",
        "musician = get_formatted_name('jimi', 'hendrix')\n",
        "print(musician)"
      ],
      "metadata": {
        "colab": {
          "base_uri": "https://localhost:8080/"
        },
        "id": "kLUssgM3jsl7",
        "outputId": "ff795d8e-4210-4163-c804-2a1cd7a2d8d2"
      },
      "execution_count": null,
      "outputs": [
        {
          "output_type": "stream",
          "name": "stdout",
          "text": [
            "Jimi Hendrix\n"
          ]
        }
      ]
    },
    {
      "cell_type": "code",
      "source": [
        "def suma(a,b):\n",
        "  suma =  a + b\n",
        "  return suma"
      ],
      "metadata": {
        "id": "MdXFI29Dlg7f"
      },
      "execution_count": null,
      "outputs": []
    },
    {
      "cell_type": "code",
      "source": [
        "suma(10,7)"
      ],
      "metadata": {
        "colab": {
          "base_uri": "https://localhost:8080/"
        },
        "id": "CcV2DyL7Gh01",
        "outputId": "f5adb90c-370f-4684-d7ac-3fa343162d58"
      },
      "execution_count": null,
      "outputs": [
        {
          "output_type": "execute_result",
          "data": {
            "text/plain": [
              "17"
            ]
          },
          "metadata": {},
          "execution_count": 40
        }
      ]
    },
    {
      "cell_type": "code",
      "source": [
        "# parametro opcional\n",
        "\n",
        "def get_formatted_name(first_name, last_name, middle_name=''):\n",
        "  \"\"\"Return a full name, neatly formatted.\"\"\"\n",
        "  if middle_name:\n",
        "    full_name = f\"{first_name} {middle_name} {last_name}\"\n",
        "  else:\n",
        "    full_name = f\"{first_name} {last_name}\"\n",
        "  return full_name.title()"
      ],
      "metadata": {
        "id": "fextyG0yK1pC"
      },
      "execution_count": null,
      "outputs": []
    },
    {
      "cell_type": "code",
      "source": [
        "get_formatted_name('camilo', 'franco')\n",
        "get_formatted_name('camilo','ernesto','franco')\n"
      ],
      "metadata": {
        "colab": {
          "base_uri": "https://localhost:8080/",
          "height": 36
        },
        "id": "VIsFwGgYMpmV",
        "outputId": "d77242f1-79b2-4328-9761-5ef044ea8780"
      },
      "execution_count": null,
      "outputs": [
        {
          "output_type": "execute_result",
          "data": {
            "text/plain": [
              "'Camilo Franco Ernesto'"
            ],
            "application/vnd.google.colaboratory.intrinsic+json": {
              "type": "string"
            }
          },
          "metadata": {},
          "execution_count": 42
        }
      ]
    },
    {
      "cell_type": "code",
      "source": [
        "# Retornando un diccionario\n",
        "def build_person(first_name, last_name):\n",
        "  \"\"\"Return a dictionary of information about a person.\"\"\"\n",
        "  person = {'first': first_name, 'last': last_name}\n",
        "  return person\n",
        "\n",
        "\n",
        "musician = build_person('jimi', 'hendrix')\n",
        "print(musician)"
      ],
      "metadata": {
        "colab": {
          "base_uri": "https://localhost:8080/"
        },
        "id": "yQSeDW0VMuQ_",
        "outputId": "fcaa2a6d-0d99-4089-ec6e-04bfa06c6643"
      },
      "execution_count": null,
      "outputs": [
        {
          "output_type": "stream",
          "name": "stdout",
          "text": [
            "{'first': 'jimi', 'last': 'hendrix'}\n"
          ]
        }
      ]
    },
    {
      "cell_type": "code",
      "source": [
        "\n",
        "import pandas as pd\n",
        "\n",
        "\n",
        "datos = {'Jugador':['Navas','Mbappe','Neymar','Messi'],\n",
        " 'Altura':[183.0, 170.0, 170.0, 165.0],\n",
        " 'Goles':[2,200,200,200]\n",
        " }"
      ],
      "metadata": {
        "id": "QrCDZnpAOk-t"
      },
      "execution_count": null,
      "outputs": []
    },
    {
      "cell_type": "code",
      "source": [
        "df_Players = pd.DataFrame(datos,index=[1,7,10,30])\n",
        "df_Players"
      ],
      "metadata": {
        "colab": {
          "base_uri": "https://localhost:8080/",
          "height": 174
        },
        "id": "9LzdHIUTOqWK",
        "outputId": "d673e1d0-e1b3-4a94-85ed-a6de98811415"
      },
      "execution_count": null,
      "outputs": [
        {
          "output_type": "execute_result",
          "data": {
            "text/plain": [
              "   Jugador  Altura  Goles\n",
              "1    Navas   183.0      2\n",
              "7   Mbappe   170.0    200\n",
              "10  Neymar   170.0    200\n",
              "30   Messi   165.0    200"
            ],
            "text/html": [
              "\n",
              "  <div id=\"df-b8b53109-ee8a-432f-8f3e-a5f8e9cf694d\" class=\"colab-df-container\">\n",
              "    <div>\n",
              "<style scoped>\n",
              "    .dataframe tbody tr th:only-of-type {\n",
              "        vertical-align: middle;\n",
              "    }\n",
              "\n",
              "    .dataframe tbody tr th {\n",
              "        vertical-align: top;\n",
              "    }\n",
              "\n",
              "    .dataframe thead th {\n",
              "        text-align: right;\n",
              "    }\n",
              "</style>\n",
              "<table border=\"1\" class=\"dataframe\">\n",
              "  <thead>\n",
              "    <tr style=\"text-align: right;\">\n",
              "      <th></th>\n",
              "      <th>Jugador</th>\n",
              "      <th>Altura</th>\n",
              "      <th>Goles</th>\n",
              "    </tr>\n",
              "  </thead>\n",
              "  <tbody>\n",
              "    <tr>\n",
              "      <th>1</th>\n",
              "      <td>Navas</td>\n",
              "      <td>183.0</td>\n",
              "      <td>2</td>\n",
              "    </tr>\n",
              "    <tr>\n",
              "      <th>7</th>\n",
              "      <td>Mbappe</td>\n",
              "      <td>170.0</td>\n",
              "      <td>200</td>\n",
              "    </tr>\n",
              "    <tr>\n",
              "      <th>10</th>\n",
              "      <td>Neymar</td>\n",
              "      <td>170.0</td>\n",
              "      <td>200</td>\n",
              "    </tr>\n",
              "    <tr>\n",
              "      <th>30</th>\n",
              "      <td>Messi</td>\n",
              "      <td>165.0</td>\n",
              "      <td>200</td>\n",
              "    </tr>\n",
              "  </tbody>\n",
              "</table>\n",
              "</div>\n",
              "    <div class=\"colab-df-buttons\">\n",
              "\n",
              "  <div class=\"colab-df-container\">\n",
              "    <button class=\"colab-df-convert\" onclick=\"convertToInteractive('df-b8b53109-ee8a-432f-8f3e-a5f8e9cf694d')\"\n",
              "            title=\"Convert this dataframe to an interactive table.\"\n",
              "            style=\"display:none;\">\n",
              "\n",
              "  <svg xmlns=\"http://www.w3.org/2000/svg\" height=\"24px\" viewBox=\"0 -960 960 960\">\n",
              "    <path d=\"M120-120v-720h720v720H120Zm60-500h600v-160H180v160Zm220 220h160v-160H400v160Zm0 220h160v-160H400v160ZM180-400h160v-160H180v160Zm440 0h160v-160H620v160ZM180-180h160v-160H180v160Zm440 0h160v-160H620v160Z\"/>\n",
              "  </svg>\n",
              "    </button>\n",
              "\n",
              "  <style>\n",
              "    .colab-df-container {\n",
              "      display:flex;\n",
              "      gap: 12px;\n",
              "    }\n",
              "\n",
              "    .colab-df-convert {\n",
              "      background-color: #E8F0FE;\n",
              "      border: none;\n",
              "      border-radius: 50%;\n",
              "      cursor: pointer;\n",
              "      display: none;\n",
              "      fill: #1967D2;\n",
              "      height: 32px;\n",
              "      padding: 0 0 0 0;\n",
              "      width: 32px;\n",
              "    }\n",
              "\n",
              "    .colab-df-convert:hover {\n",
              "      background-color: #E2EBFA;\n",
              "      box-shadow: 0px 1px 2px rgba(60, 64, 67, 0.3), 0px 1px 3px 1px rgba(60, 64, 67, 0.15);\n",
              "      fill: #174EA6;\n",
              "    }\n",
              "\n",
              "    .colab-df-buttons div {\n",
              "      margin-bottom: 4px;\n",
              "    }\n",
              "\n",
              "    [theme=dark] .colab-df-convert {\n",
              "      background-color: #3B4455;\n",
              "      fill: #D2E3FC;\n",
              "    }\n",
              "\n",
              "    [theme=dark] .colab-df-convert:hover {\n",
              "      background-color: #434B5C;\n",
              "      box-shadow: 0px 1px 3px 1px rgba(0, 0, 0, 0.15);\n",
              "      filter: drop-shadow(0px 1px 2px rgba(0, 0, 0, 0.3));\n",
              "      fill: #FFFFFF;\n",
              "    }\n",
              "  </style>\n",
              "\n",
              "    <script>\n",
              "      const buttonEl =\n",
              "        document.querySelector('#df-b8b53109-ee8a-432f-8f3e-a5f8e9cf694d button.colab-df-convert');\n",
              "      buttonEl.style.display =\n",
              "        google.colab.kernel.accessAllowed ? 'block' : 'none';\n",
              "\n",
              "      async function convertToInteractive(key) {\n",
              "        const element = document.querySelector('#df-b8b53109-ee8a-432f-8f3e-a5f8e9cf694d');\n",
              "        const dataTable =\n",
              "          await google.colab.kernel.invokeFunction('convertToInteractive',\n",
              "                                                    [key], {});\n",
              "        if (!dataTable) return;\n",
              "\n",
              "        const docLinkHtml = 'Like what you see? Visit the ' +\n",
              "          '<a target=\"_blank\" href=https://colab.research.google.com/notebooks/data_table.ipynb>data table notebook</a>'\n",
              "          + ' to learn more about interactive tables.';\n",
              "        element.innerHTML = '';\n",
              "        dataTable['output_type'] = 'display_data';\n",
              "        await google.colab.output.renderOutput(dataTable, element);\n",
              "        const docLink = document.createElement('div');\n",
              "        docLink.innerHTML = docLinkHtml;\n",
              "        element.appendChild(docLink);\n",
              "      }\n",
              "    </script>\n",
              "  </div>\n",
              "\n",
              "\n",
              "<div id=\"df-02742966-4daf-479c-a0ef-fba19bb611ce\">\n",
              "  <button class=\"colab-df-quickchart\" onclick=\"quickchart('df-02742966-4daf-479c-a0ef-fba19bb611ce')\"\n",
              "            title=\"Suggest charts.\"\n",
              "            style=\"display:none;\">\n",
              "\n",
              "<svg xmlns=\"http://www.w3.org/2000/svg\" height=\"24px\"viewBox=\"0 0 24 24\"\n",
              "     width=\"24px\">\n",
              "    <g>\n",
              "        <path d=\"M19 3H5c-1.1 0-2 .9-2 2v14c0 1.1.9 2 2 2h14c1.1 0 2-.9 2-2V5c0-1.1-.9-2-2-2zM9 17H7v-7h2v7zm4 0h-2V7h2v10zm4 0h-2v-4h2v4z\"/>\n",
              "    </g>\n",
              "</svg>\n",
              "  </button>\n",
              "\n",
              "<style>\n",
              "  .colab-df-quickchart {\n",
              "      --bg-color: #E8F0FE;\n",
              "      --fill-color: #1967D2;\n",
              "      --hover-bg-color: #E2EBFA;\n",
              "      --hover-fill-color: #174EA6;\n",
              "      --disabled-fill-color: #AAA;\n",
              "      --disabled-bg-color: #DDD;\n",
              "  }\n",
              "\n",
              "  [theme=dark] .colab-df-quickchart {\n",
              "      --bg-color: #3B4455;\n",
              "      --fill-color: #D2E3FC;\n",
              "      --hover-bg-color: #434B5C;\n",
              "      --hover-fill-color: #FFFFFF;\n",
              "      --disabled-bg-color: #3B4455;\n",
              "      --disabled-fill-color: #666;\n",
              "  }\n",
              "\n",
              "  .colab-df-quickchart {\n",
              "    background-color: var(--bg-color);\n",
              "    border: none;\n",
              "    border-radius: 50%;\n",
              "    cursor: pointer;\n",
              "    display: none;\n",
              "    fill: var(--fill-color);\n",
              "    height: 32px;\n",
              "    padding: 0;\n",
              "    width: 32px;\n",
              "  }\n",
              "\n",
              "  .colab-df-quickchart:hover {\n",
              "    background-color: var(--hover-bg-color);\n",
              "    box-shadow: 0 1px 2px rgba(60, 64, 67, 0.3), 0 1px 3px 1px rgba(60, 64, 67, 0.15);\n",
              "    fill: var(--button-hover-fill-color);\n",
              "  }\n",
              "\n",
              "  .colab-df-quickchart-complete:disabled,\n",
              "  .colab-df-quickchart-complete:disabled:hover {\n",
              "    background-color: var(--disabled-bg-color);\n",
              "    fill: var(--disabled-fill-color);\n",
              "    box-shadow: none;\n",
              "  }\n",
              "\n",
              "  .colab-df-spinner {\n",
              "    border: 2px solid var(--fill-color);\n",
              "    border-color: transparent;\n",
              "    border-bottom-color: var(--fill-color);\n",
              "    animation:\n",
              "      spin 1s steps(1) infinite;\n",
              "  }\n",
              "\n",
              "  @keyframes spin {\n",
              "    0% {\n",
              "      border-color: transparent;\n",
              "      border-bottom-color: var(--fill-color);\n",
              "      border-left-color: var(--fill-color);\n",
              "    }\n",
              "    20% {\n",
              "      border-color: transparent;\n",
              "      border-left-color: var(--fill-color);\n",
              "      border-top-color: var(--fill-color);\n",
              "    }\n",
              "    30% {\n",
              "      border-color: transparent;\n",
              "      border-left-color: var(--fill-color);\n",
              "      border-top-color: var(--fill-color);\n",
              "      border-right-color: var(--fill-color);\n",
              "    }\n",
              "    40% {\n",
              "      border-color: transparent;\n",
              "      border-right-color: var(--fill-color);\n",
              "      border-top-color: var(--fill-color);\n",
              "    }\n",
              "    60% {\n",
              "      border-color: transparent;\n",
              "      border-right-color: var(--fill-color);\n",
              "    }\n",
              "    80% {\n",
              "      border-color: transparent;\n",
              "      border-right-color: var(--fill-color);\n",
              "      border-bottom-color: var(--fill-color);\n",
              "    }\n",
              "    90% {\n",
              "      border-color: transparent;\n",
              "      border-bottom-color: var(--fill-color);\n",
              "    }\n",
              "  }\n",
              "</style>\n",
              "\n",
              "  <script>\n",
              "    async function quickchart(key) {\n",
              "      const quickchartButtonEl =\n",
              "        document.querySelector('#' + key + ' button');\n",
              "      quickchartButtonEl.disabled = true;  // To prevent multiple clicks.\n",
              "      quickchartButtonEl.classList.add('colab-df-spinner');\n",
              "      try {\n",
              "        const charts = await google.colab.kernel.invokeFunction(\n",
              "            'suggestCharts', [key], {});\n",
              "      } catch (error) {\n",
              "        console.error('Error during call to suggestCharts:', error);\n",
              "      }\n",
              "      quickchartButtonEl.classList.remove('colab-df-spinner');\n",
              "      quickchartButtonEl.classList.add('colab-df-quickchart-complete');\n",
              "    }\n",
              "    (() => {\n",
              "      let quickchartButtonEl =\n",
              "        document.querySelector('#df-02742966-4daf-479c-a0ef-fba19bb611ce button');\n",
              "      quickchartButtonEl.style.display =\n",
              "        google.colab.kernel.accessAllowed ? 'block' : 'none';\n",
              "    })();\n",
              "  </script>\n",
              "</div>\n",
              "    </div>\n",
              "  </div>\n"
            ]
          },
          "metadata": {},
          "execution_count": 45
        }
      ]
    },
    {
      "cell_type": "code",
      "source": [
        "list_compre = {}"
      ],
      "metadata": {
        "id": "zuz90IQmOylT"
      },
      "execution_count": null,
      "outputs": []
    }
  ]
}