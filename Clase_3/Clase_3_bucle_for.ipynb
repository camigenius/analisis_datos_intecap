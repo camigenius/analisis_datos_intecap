{
  "nbformat": 4,
  "nbformat_minor": 0,
  "metadata": {
    "colab": {
      "provenance": []
    },
    "kernelspec": {
      "name": "python3",
      "display_name": "Python 3"
    },
    "language_info": {
      "name": "python"
    }
  },
  "cells": [
    {
      "cell_type": "markdown",
      "source": [
        "#BUCLE FOR\n"
      ],
      "metadata": {
        "id": "rJxL-LhL6MRS"
      }
    },
    {
      "cell_type": "code",
      "execution_count": null,
      "metadata": {
        "colab": {
          "base_uri": "https://localhost:8080/"
        },
        "id": "MPaDTl2w56zF",
        "outputId": "e0e63d27-1d47-4890-8383-23440bd697d3"
      },
      "outputs": [
        {
          "output_type": "execute_result",
          "data": {
            "text/plain": [
              "[0, 1, 2, 3, 4, 5]"
            ]
          },
          "metadata": {},
          "execution_count": 3
        }
      ],
      "source": [
        "my_range = range(6)\n",
        "list(my_range)\n"
      ]
    },
    {
      "cell_type": "code",
      "source": [
        "numbers = [1,2,3,4,5,6]\n",
        "\n",
        "for number in numbers:\n",
        "    print(number)\n"
      ],
      "metadata": {
        "colab": {
          "base_uri": "https://localhost:8080/"
        },
        "id": "97ZOiwEk7WGg",
        "outputId": "0dd348f7-d2e2-48c4-8116-9bfa1d1cd2dd"
      },
      "execution_count": null,
      "outputs": [
        {
          "output_type": "stream",
          "name": "stdout",
          "text": [
            "1\n",
            "2\n",
            "3\n",
            "4\n",
            "5\n",
            "6\n"
          ]
        }
      ]
    },
    {
      "cell_type": "code",
      "source": [
        "for i in range(6):\n",
        "  print(i)"
      ],
      "metadata": {
        "colab": {
          "base_uri": "https://localhost:8080/"
        },
        "id": "G1G1GYLB8ss0",
        "outputId": "55f0d8e5-1466-4e9b-b5a6-e02cb9e0f1ea"
      },
      "execution_count": null,
      "outputs": [
        {
          "output_type": "stream",
          "name": "stdout",
          "text": [
            "0\n",
            "1\n",
            "2\n",
            "3\n",
            "4\n",
            "5\n"
          ]
        }
      ]
    },
    {
      "cell_type": "code",
      "source": [
        "# range (inicio,fin,pasos)\n",
        "for i in range(1,6):\n",
        "  print(i)"
      ],
      "metadata": {
        "colab": {
          "base_uri": "https://localhost:8080/"
        },
        "id": "r01MCDhm9FK9",
        "outputId": "733a0441-0cfc-4539-ef9e-7e6f05641073"
      },
      "execution_count": null,
      "outputs": [
        {
          "output_type": "stream",
          "name": "stdout",
          "text": [
            "1\n",
            "2\n",
            "3\n",
            "4\n",
            "5\n"
          ]
        }
      ]
    },
    {
      "cell_type": "code",
      "source": [
        "for i in range(1,10,2):\n",
        "  print(i)"
      ],
      "metadata": {
        "colab": {
          "base_uri": "https://localhost:8080/"
        },
        "id": "Pff9rDQF9hyp",
        "outputId": "01781007-140d-44dd-8448-02cfa0c862c4"
      },
      "execution_count": null,
      "outputs": [
        {
          "output_type": "stream",
          "name": "stdout",
          "text": [
            "1\n",
            "3\n",
            "5\n",
            "7\n",
            "9\n"
          ]
        }
      ]
    },
    {
      "cell_type": "code",
      "source": [
        "for i in range(-10,10,2):\n",
        "  print(i)"
      ],
      "metadata": {
        "colab": {
          "base_uri": "https://localhost:8080/"
        },
        "id": "Ex8Y8l4y9qr8",
        "outputId": "e21526c1-62a5-43a7-9858-048687fdd668"
      },
      "execution_count": null,
      "outputs": [
        {
          "output_type": "stream",
          "name": "stdout",
          "text": [
            "-10\n",
            "-8\n",
            "-6\n",
            "-4\n",
            "-2\n",
            "0\n",
            "2\n",
            "4\n",
            "6\n",
            "8\n"
          ]
        }
      ]
    },
    {
      "cell_type": "code",
      "source": [
        "lista = []\n",
        "\n",
        "\n",
        "for i in range(10):\n",
        "  lista.append(i)\n",
        "\n",
        "print(lista)"
      ],
      "metadata": {
        "colab": {
          "base_uri": "https://localhost:8080/"
        },
        "id": "633IpgP799wJ",
        "outputId": "0b93c513-7f9f-4cbc-b10d-c97d7927dea5"
      },
      "execution_count": null,
      "outputs": [
        {
          "output_type": "stream",
          "name": "stdout",
          "text": [
            "[0, 1, 2, 3, 4, 5, 6, 7, 8, 9]\n"
          ]
        }
      ]
    },
    {
      "cell_type": "code",
      "source": [
        "count = 0\n",
        "pets = ['cat','dog','fish']\n",
        "\n",
        "for pet in pets:\n",
        "  print(pet)\n",
        "  # count = count + 1\n",
        "  count += 1\n",
        "print(count)"
      ],
      "metadata": {
        "colab": {
          "base_uri": "https://localhost:8080/"
        },
        "id": "Mgkp1vEs-9kT",
        "outputId": "d53da91a-4c8a-481a-dbfa-64cfb0db2ecc"
      },
      "execution_count": null,
      "outputs": [
        {
          "output_type": "stream",
          "name": "stdout",
          "text": [
            "cat\n",
            "dog\n",
            "fish\n",
            "3\n"
          ]
        }
      ]
    },
    {
      "cell_type": "code",
      "source": [
        "surnames = ['Cortes','Camargo','Torres','Beltran']\n",
        "\n",
        "for positions in range(len(surnames)):\n",
        "  print(surnames[positions])\n"
      ],
      "metadata": {
        "colab": {
          "base_uri": "https://localhost:8080/"
        },
        "id": "iomNcC9UAQvM",
        "outputId": "556fb737-6a9c-4164-eb4e-8498ee91f797"
      },
      "execution_count": null,
      "outputs": [
        {
          "output_type": "stream",
          "name": "stdout",
          "text": [
            "Cortes\n",
            "Camargo\n",
            "Torres\n",
            "Beltran\n"
          ]
        }
      ]
    },
    {
      "cell_type": "code",
      "source": [
        "surnames = ['Cortes','Camargo','Torres','Beltran']\n",
        "\n",
        "for positions,surname in enumerate(surnames,start=1):\n",
        "  print(positions,surname)\n"
      ],
      "metadata": {
        "colab": {
          "base_uri": "https://localhost:8080/"
        },
        "id": "k_BLUppxBGvL",
        "outputId": "01738e46-169d-4ff1-96e4-c2d6edd2f305"
      },
      "execution_count": null,
      "outputs": [
        {
          "output_type": "stream",
          "name": "stdout",
          "text": [
            "1 Cortes\n",
            "2 Camargo\n",
            "3 Torres\n",
            "4 Beltran\n"
          ]
        }
      ]
    },
    {
      "cell_type": "code",
      "source": [
        "number = 10\n",
        "\n",
        "for i in range(15):\n",
        "  if i == 10:\n",
        "    break\n",
        "  if i % 2 == 0:\n",
        "    print(f\"el número {i} es par\")\n"
      ],
      "metadata": {
        "colab": {
          "base_uri": "https://localhost:8080/"
        },
        "id": "Y3fgruCnCTY_",
        "outputId": "a495720f-2b91-4c75-d3b8-151317e3690f"
      },
      "execution_count": null,
      "outputs": [
        {
          "output_type": "stream",
          "name": "stdout",
          "text": [
            "el número 0 es par\n",
            "el número 2 es par\n",
            "el número 4 es par\n",
            "el número 6 es par\n",
            "el número 8 es par\n"
          ]
        }
      ]
    },
    {
      "cell_type": "code",
      "source": [
        "# ejercicio clave acceso a una cuenta y que si la misma no es correcta despues de\n",
        "# tres intentos la clave esta bloqueada"
      ],
      "metadata": {
        "id": "1EBiGmzpEONP"
      },
      "execution_count": null,
      "outputs": []
    },
    {
      "cell_type": "code",
      "source": [
        "password = ''\n",
        "conteo = 1\n",
        "\n",
        "while password != 'xyz':\n",
        "\n",
        "  password = input(\"Enter your password : \")\n",
        "\n",
        "  if password == 'xyz':\n",
        "    print(\"Correct password\")\n",
        "    break\n",
        "  else:\n",
        "    if conteo < 3:\n",
        "      print(\"access denied\")\n",
        "      print(conteo, \"Intentos\")\n",
        "      conteo += 1\n",
        "    else:\n",
        "      print(\"Password Locked\")\n",
        "      break"
      ],
      "metadata": {
        "colab": {
          "base_uri": "https://localhost:8080/"
        },
        "id": "tesBKgzFHA0d",
        "outputId": "0aa10e4e-8d36-4a0f-8391-0f150d57ba8b"
      },
      "execution_count": null,
      "outputs": [
        {
          "output_type": "stream",
          "name": "stdout",
          "text": [
            "Enter your password : asdf\n",
            "access denied\n",
            "1 Intentos\n",
            "Enter your password : asdf\n",
            "access denied\n",
            "2 Intentos\n",
            "Enter your password : asdf\n",
            "Password Locked\n"
          ]
        }
      ]
    },
    {
      "cell_type": "code",
      "source": [
        "list_example = [9,'car','house','dog',10,11]\n",
        "\n",
        "for element in list_example:\n",
        "  if type(element) != int:\n",
        "    continue\n",
        "  print(f\"el numero {element} es entero\")\n"
      ],
      "metadata": {
        "colab": {
          "base_uri": "https://localhost:8080/"
        },
        "id": "vHdSUKm9FqyX",
        "outputId": "13786035-2ea5-44cb-8c12-20c456946936"
      },
      "execution_count": null,
      "outputs": [
        {
          "output_type": "stream",
          "name": "stdout",
          "text": [
            "el numero 9 es entero\n",
            "el numero 10 es entero\n",
            "el numero 11 es entero\n"
          ]
        }
      ]
    },
    {
      "cell_type": "code",
      "source": [
        "current_number = 0\n",
        "\n",
        "while current_number < 10:\n",
        "    current_number += 1\n",
        "    if current_number % 2 != 0:\n",
        "        continue\n",
        "\n",
        "    print(current_number)"
      ],
      "metadata": {
        "colab": {
          "base_uri": "https://localhost:8080/"
        },
        "id": "4cu4LgPXNsb1",
        "outputId": "d63a28f1-852d-4366-9349-e3d1417d4361"
      },
      "execution_count": null,
      "outputs": [
        {
          "output_type": "stream",
          "name": "stdout",
          "text": [
            "2\n",
            "4\n",
            "6\n",
            "8\n",
            "10\n"
          ]
        }
      ]
    }
  ]
}